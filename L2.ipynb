{
 "cells": [
  {
   "cell_type": "markdown",
   "id": "22c9b0c2-4c74-42d5-92d8-0a20a9f29e44",
   "metadata": {},
   "source": [
    "#### Стэк - структура данных, подразумевающая собой набор элементов по принципу LIFO. Last in -- first out.\n",
    "#### Ниже я реализовал его с помощью класса."
   ]
  },
  {
   "cell_type": "code",
   "execution_count": 1,
   "id": "0fd40764-2fe5-4438-863c-2f2158cfbbf0",
   "metadata": {},
   "outputs": [],
   "source": [
    "class stack:\n",
    "    \n",
    "    # Инициализация\n",
    "    def __init__(self):\n",
    "        self.items = []\n",
    "\n",
    "    #Проверка на пустоту\n",
    "    def is_empty(self):\n",
    "        return len(self.items) == 0\n",
    "        \n",
    "    # Добавление элемента с конца\n",
    "    def add(self, element):\n",
    "        return self.items.append(element)\n",
    "\n",
    "    # Извлечение элемента с конца\n",
    "    def pop(self):\n",
    "        if not self.is_empty():\n",
    "            return self.items.pop()\n",
    "        else:\n",
    "           # print('Стэк пустой')\n",
    "            pass\n",
    "            \n",
    "    # Просмотр элемента с конца\n",
    "    def peek(self):\n",
    "        if not self.is_empty():\n",
    "            return self.items[-1]\n",
    "        else:\n",
    "            # print('Cтэк пустой')\n",
    "            pass"
   ]
  },
  {
   "cell_type": "markdown",
   "id": "f2c0bdb5-ed91-4f33-ab0c-f3d7275471b4",
   "metadata": {},
   "source": [
    "#### Дэк -- схожая структура данных. \n",
    "#### Отличается от стэка тем, что манипуляции с ним можно произовдить не только с конца, но и с другой стороны"
   ]
  },
  {
   "cell_type": "code",
   "execution_count": 2,
   "id": "a851fb37-36da-40fe-95ac-a78ff7b9c4b7",
   "metadata": {},
   "outputs": [],
   "source": [
    "class deque:\n",
    "    \n",
    "    # Инициализация\n",
    "    def __init__(self):\n",
    "        self.items = []\n",
    "        \n",
    "    # Проверка на пустоту\n",
    "    def is_empty(self):\n",
    "        return len(self.items) == 0\n",
    "\n",
    "    # Добавление элмента слева\n",
    "    def add_left(self, element):\n",
    "        self.items.insert(0, element)\n",
    "\n",
    "    # Добавление элемента справа\n",
    "    def add_right(self, element):\n",
    "        self.items.append(element)\n",
    "\n",
    "    # Извлечение элемента слева\n",
    "    def pop_left(self):\n",
    "        if not self.is_empty():\n",
    "            return self.items.pop(0)\n",
    "        else:\n",
    "            print('Дэк пустой')\n",
    "\n",
    "    # Извелечение элемента справа\n",
    "    def pop_right(self):\n",
    "        if not self.empty():\n",
    "            return self.items.pop()\n",
    "        else:\n",
    "            print('Дэк пустой')\n",
    "\n",
    "    # Просмотр элемента справа\n",
    "    def peek_right(self):\n",
    "        if not self.is_empty():\n",
    "            return self.items[-1]\n",
    "        else:\n",
    "            print('Дэк пустой')\n",
    "\n",
    "    # Просмотр элмента слева\n",
    "    def peek_left(self):\n",
    "        if not self.is_empty():\n",
    "            return self.items[0]\n",
    "        else:\n",
    "            print('Дэк пустой')"
   ]
  },
  {
   "cell_type": "markdown",
   "id": "2c061705-bf80-4b36-9997-d2d61a700979",
   "metadata": {},
   "source": [
    "#### Для практики использования этих структур данных я выполню несколько заданий"
   ]
  },
  {
   "cell_type": "markdown",
   "id": "30c89847-7b4f-49d3-bffe-8bdd7900846e",
   "metadata": {},
   "source": [
    "### Задание 1. Выполнить сортировку книг в алфавитном порядке, используя для этого 2 дэка. \n",
    "### (Гарантировано, что названия книг не начинаются с одной буквы)\n",
    "### Для этого я использую один дэк d1 для временного хранения названий книг, а d2 для отсортированной части.\n",
    "### Я буду брать по одному предмету из начала d1, сравнивать его с крайними значениями в d2. Если элемент меньше верхнего элемента, то добавляю его наверх. Если больше нижнего, то добавляю его в конец. Если условия не сработали, то убираю из d2 элементы в конец d1 до тех пор, пока не найдется место для текущего элемента. Сравнивание происходит по первой буквы книги, то есть по их расположению в алфавите."
   ]
  },
  {
   "cell_type": "code",
   "execution_count": 3,
   "id": "17702ade",
   "metadata": {},
   "outputs": [
    {
     "name": "stdout",
     "output_type": "stream",
     "text": [
      "Неотсоритрованный список из файла: \n",
      " ['Smeshariki', 'War and Peace', 'Dead Souls', 'Mein Kampf'] \n",
      "\n",
      "Отсортированный список: \n",
      " ['Dead Souls', 'Mein Kampf', 'Smeshariki', 'War and Peace']\n"
     ]
    }
   ],
   "source": [
    "# Обозначение дэков и считывание названий строк из файла с названиями книг в дэк d1\n",
    "d1 = deque()\n",
    "d2 = deque()\n",
    "\n",
    "with open('books.txt') as file:  \n",
    "    for title in file:\n",
    "        title = title.strip()\n",
    "        d1.add_left(title)\n",
    "\n",
    "print('Неотсоритрованный список из файла: \\n', d1.items, '\\n')\n",
    "\n",
    "# Добавим один элемент в d2, чтобы было с чем сравнивать\n",
    "d2.add_left(d1.pop_left())\n",
    "\n",
    "while not d1.is_empty():\n",
    "    # Если элемент из d1 больше последнего в d2 добавляем в конец\n",
    "    if d1.peek_left()[0] > d2.peek_right()[0]:\n",
    "        d2.add_right(d1.pop_left())\n",
    "        d2.items\n",
    "        \n",
    "    # Если элемент из d1 меньше первого в d2 добавляем в начало\n",
    "    if d1.peek_left()[0] < d2.peek_left()[0]:\n",
    "        d2.add_left(d1.pop_left())\n",
    "\n",
    "    # Иначе убираем элементы из начала d2 в конец d1 пока не найдем место для элемента\n",
    "    else:\n",
    "        d1.add_right(d2.pop_left())\n",
    "\n",
    "\n",
    "print(\"Отсортированный список: \\n\", d2.items)"
   ]
  },
  {
   "cell_type": "markdown",
   "id": "f16bfd11-b0b8-4ded-8725-21de1aa943c7",
   "metadata": {},
   "source": [
    "### Задание 2. Пользуясь одним дэком расшифровать строку, зашифрованную шифром Цезаря. Этот шифр кодирует каждую букву сообщения буквой, стоящей в алфавите на некотором расстоянии справа от данной буквы. Например, отступ = 2. Для буквы \"б\" для шифра бдует использоваться буква \"г\".\n",
    "#### Для этого создадим добавим в пустой дэк d3 символы, которые используются в сообщении. Будем сравнивать буквы из начала дэка и строки сообщения str. Если символы не равны, то мы перемещаем символ из начала дэка в конец, пока не найдем нужный. Если равны, то два раза перемещаем символ из начала дэка в конец, чтобы удовлетворить условие шифра Цезаря, после чего добавляем нужный символ в расшифрованную строку str2."
   ]
  },
  {
   "cell_type": "code",
   "execution_count": 13,
   "id": "81cab7a8",
   "metadata": {},
   "outputs": [
    {
     "name": "stdout",
     "output_type": "stream",
     "text": [
      "Зашифрованная строка: \n",
      " qfpci \n",
      "\n",
      "Расшифрованная строка \n",
      " shrek\n"
     ]
    }
   ],
   "source": [
    "import string\n",
    "\n",
    "# Создаем дэк со всеми символами\n",
    "d_str = string.ascii_lowercase + ' ,.!?;:'\n",
    "d3 = deque()\n",
    "\n",
    "for i in range(len(d_str)):\n",
    "    d3.add_right(d_str[i])\n",
    "\n",
    "# Считываем строку и приравниваем ее к нижнему регистру\n",
    "with open('encrypted.txt') as file:\n",
    "    str = file.read()\n",
    "str.lower()\n",
    "\n",
    "print(\"Зашифрованная строка: \\n\", str, '\\n')\n",
    "\n",
    "str2 = ''\n",
    "\n",
    "for i in range(len(str)):\n",
    "    \n",
    "    # Ищем совпадение в строке и в деке, потом пропускаем элементы\n",
    "    # и добавляем следующий в новую строку\n",
    "    while str[i] != d3.peek_left():\n",
    "        d3.add_right(d3.pop_left())\n",
    "    d3.add_right(d3.pop_left())\n",
    "    d3.add_right(d3.pop_left())\n",
    "    str2 += d3.peek_left()\n",
    "    \n",
    "print('Расшифрованная строка \\n', str2)"
   ]
  },
  {
   "cell_type": "code",
   "execution_count": 5,
   "id": "b50ded50-dd93-4b2f-b314-adb30ddb2eaf",
   "metadata": {},
   "outputs": [
    {
     "data": {
      "text/plain": [
       "['k',\n",
       " 'l',\n",
       " 'm',\n",
       " 'n',\n",
       " 'o',\n",
       " 'p',\n",
       " 'q',\n",
       " 'r',\n",
       " 's',\n",
       " 't',\n",
       " 'u',\n",
       " 'v',\n",
       " 'w',\n",
       " 'x',\n",
       " 'y',\n",
       " 'z',\n",
       " ' ',\n",
       " ',',\n",
       " '.',\n",
       " '!',\n",
       " '?',\n",
       " ';',\n",
       " ':',\n",
       " 'a',\n",
       " 'b',\n",
       " 'c',\n",
       " 'd',\n",
       " 'e',\n",
       " 'f',\n",
       " 'g',\n",
       " 'h',\n",
       " 'i',\n",
       " 'j']"
      ]
     },
     "execution_count": 5,
     "metadata": {},
     "output_type": "execute_result"
    }
   ],
   "source": [
    "# Алфавит и смиволы\n",
    "d3.items"
   ]
  },
  {
   "cell_type": "markdown",
   "id": "c0894f47",
   "metadata": {},
   "source": [
    "### Задание №3 Даны три стержня и n дисков различного размера. Диски можно надевать на стержни, образуя из них башни. Перенести n дисков со стержня А на стержень С, сохранив их первоначальный порядок. При переносе дисков необходимо соблюдать следующие правила:\n",
    "- на каждом шаге со стержня на стержень переносить только один диск;\n",
    "- диск нельзя помещать на диск меньшего размера;\n",
    "- для промежуточного хранения можно использовать стержень В.\n",
    "Реализовать алгоритм, используя три стека вместо стержней А, В, С. Информация о дисках хранится в исходном файле.\n",
    "\n",
    "### Для выполнения задания используем три стэка A, B, C. Для начала переместим с A n-1 дисков на B. n-ный диск переместим c A на C. Например, 1-ый диск перенесём с A на B, 2-ой с A на C. Потом 1-ый с B на C. Алгоритм для каждого последующего диска будет рекурсивно вызываться, пока одним и тем же образом не переместит все диски поменьше. Для корректной работы алгоритма, нужно учесть порядок стержней в вызове."
   ]
  },
  {
   "cell_type": "code",
   "execution_count": 5,
   "id": "9e91a9d4",
   "metadata": {},
   "outputs": [
    {
     "name": "stdout",
     "output_type": "stream",
     "text": [
      "Неотсортированный вариант: \n",
      " A:  [1, 2, 3, 4, 5, 6, 7, 8, 9, 10] B:  [] C:  [] \n",
      "\n",
      "Отсортированный вариант: \n",
      " A:  [] B:  [] C:  [1, 2, 3, 4, 5, 6, 7, 8, 9, 10]\n"
     ]
    }
   ],
   "source": [
    "# Из файла считвается размер максимального диска. На стержне A диски расположены от n-ного до 1-ого с шагом 1.\n",
    "with open('disks.txt') as file:\n",
    "    n = int(file.read())\n",
    "    \n",
    "# Размер дисков -- число. Чем больше число тем больше диск\n",
    "A = stack()\n",
    "for i in range(n):\n",
    "    A.add(i+1)\n",
    "\n",
    "B = stack()\n",
    "C = stack()\n",
    "\n",
    "print('Неотсортированный вариант: \\n A: ', A.items, 'B: ', B.items, 'C: ', C.items, '\\n')\n",
    "\n",
    "# Рекурсивный алгоритм по перемещению дисков\n",
    "def hanoi_with_stacks(n, A, B, C):\n",
    "    if n > 0:\n",
    "        hanoi_with_stacks(n-1, A, C, B)\n",
    "        B.add(A.pop())\n",
    "        hanoi_with_stacks(n-1, C, B, A)\n",
    "\n",
    "hanoi_with_stacks(n, A, C, B)\n",
    "print('Отсортированный вариант: \\n A: ', A.items, 'B: ', B.items, 'C: ', C.items)"
   ]
  },
  {
   "cell_type": "markdown",
   "id": "e5b0be17",
   "metadata": {},
   "source": [
    "### Задание №4 Дан текстовый файл с программой на алгоритмическом языке. За один просмотр файла проверить баланс круглых скобок в тексте, используя стек.\n",
    "#### Для этого будем добавлять и удалять скобки в стэке. Если до определенного момента баланс скобок соблюден, например, скобок вообще не было, и мы встречаем открывающуюся скобку, то мы добавляем ее в стэк. Если далее мы встречаем закрывающуюся скобку, то мы удаляем открывающуюся скобку из стэка. Пустой стэк -- значит, что баланс соблюден. Если встретилась закрывающаяся, а стэк пустой, то значит, что баланс не соблюден."
   ]
  },
  {
   "cell_type": "code",
   "execution_count": 9,
   "id": "5b1df60a",
   "metadata": {},
   "outputs": [
    {
     "name": "stdout",
     "output_type": "stream",
     "text": [
      "Соблюден баланс? \n",
      " True\n"
     ]
    }
   ],
   "source": [
    "# Считываение текстка из файла\n",
    "with open('programm.txt') as file:\n",
    "    text = file.read()\n",
    "\n",
    "#print(text)\n",
    "st = stack()\n",
    "\n",
    "# Изначальное состояние -- сбалансированное\n",
    "is_balanced = True\n",
    "\n",
    "for char in text:\n",
    "    if char == '(':\n",
    "        st.add(char)\n",
    "    elif char == ')':\n",
    "        if st.is_empty == True:\n",
    "            is_balanced = False\n",
    "        else:\n",
    "            st.pop()\n",
    "            is_balanced = True\n",
    "            \n",
    "print('Соблюден баланс? \\n', is_balanced)"
   ]
  },
  {
   "cell_type": "markdown",
   "id": "c44cdd6b",
   "metadata": {},
   "source": [
    "### Задание №5 Дан текстовый файл с программой на алгоритмическом языке. За один просмотр файла проверить баланс квадратных скобок в тексте, используя дек.\n",
    "\n",
    "#### Произведем те же манипуляции, что и в предыщем задании. Возможности дэка шире, чем у стэка, но мы испуользуем те же самые."
   ]
  },
  {
   "cell_type": "code",
   "execution_count": 12,
   "id": "36b8f400",
   "metadata": {},
   "outputs": [
    {
     "name": "stdout",
     "output_type": "stream",
     "text": [
      "Соблюден баланс? \n",
      " True\n"
     ]
    }
   ],
   "source": [
    "# Чтение текста из файала\n",
    "with open('programm.txt') as file:\n",
    "    text = file.read()\n",
    "\n",
    "d = deque()\n",
    "\n",
    "# Изначальное состояние -- сбалансированное\n",
    "is_balanced = True\n",
    "\n",
    "for char in text:\n",
    "    if char == '[':\n",
    "        d.add_right(char)\n",
    "    elif char == ']':\n",
    "        if d.is_empty == True:\n",
    "            is_balanced = False\n",
    "        else:\n",
    "            d.pop_right()\n",
    "            is_balanced = True\n",
    "            \n",
    "print('Соблюден баланс? \\n', is_balanced)"
   ]
  },
  {
   "cell_type": "markdown",
   "id": "59d13dc7",
   "metadata": {},
   "source": [
    "### Задание №6 Дан файл из символов. Используя стек, за один просмотр файла напечатать сначала все цифры, затем все буквы, и, наконец, все остальные символы, сохраняя исходный порядок в каждой группе символов.\n",
    "\n",
    "#### Для этого создадим 3 стэка для цифр ds, для букв ls и для остальных символов ss. Далее проверяем символ из файла, является ли он цифрой, буквой. Если да, то добавляем в соответствующий стэк, если нет, то в стэк ss."
   ]
  },
  {
   "cell_type": "code",
   "execution_count": 14,
   "id": "297e36c2",
   "metadata": {},
   "outputs": [
    {
     "name": "stdout",
     "output_type": "stream",
     "text": [
      "Цифры: ['3', '2', '9', '8', '4']\n",
      "\n",
      "Буквы: ['J', 'K', 'S', 'D', 'F', 'N', 'J', 'K', 'L', 'A', 'N', 'S', 'F']\n",
      "\n",
      "Остальные символы: ['!', '(', '^', '&', '(', '^', '!', '#', '&', '^', '#']\n"
     ]
    }
   ],
   "source": [
    "ds = stack()\n",
    "ls = stack()\n",
    "ss = stack()\n",
    "\n",
    "with open('symbols.txt') as file:\n",
    "    for line in file:\n",
    "        for char in line:\n",
    "            if char.isdigit():\n",
    "                ds.add(char)\n",
    "            elif char.isalpha():\n",
    "                ls.add(char)\n",
    "            else:\n",
    "                ss.add(char)\n",
    "\n",
    "print(\"Цифры:\", ds.items)\n",
    "\n",
    "print(\"\\nБуквы:\", ls.items)\n",
    "\n",
    "print(\"\\nОстальные символы:\", ss.items)"
   ]
  },
  {
   "cell_type": "markdown",
   "id": "973f68bd",
   "metadata": {},
   "source": [
    "### Задание №7 Дан файл из целых чисел. Используя дек, за один просмотр файла напечатать сначала все отрицательные числа, затем все положительные числа, сохраняя исходный порядок в каждой группе.\n",
    "\n",
    "#### Для того, чтобы выполнить это, используя один дэк dd, будем добавлять положительные числа в начало дэка, а отрицательные в конец"
   ]
  },
  {
   "cell_type": "code",
   "execution_count": 10,
   "id": "c56fad66",
   "metadata": {},
   "outputs": [
    {
     "name": "stdout",
     "output_type": "stream",
     "text": [
      "2\n",
      "\n",
      "3\n",
      "\n",
      "4\n",
      "\n",
      "5\n",
      "\n",
      "1\n",
      "\n",
      "3\n",
      "\n",
      "-2\n",
      "\n",
      "-2\n",
      "\n",
      "-3\n",
      "\n",
      "-4\n",
      "\n",
      "1\n",
      "\n",
      "2\n",
      "\n",
      "3\n",
      "\n",
      "2\n",
      "Положительные числа:\n",
      "2, 3, 2, 1, 3, 1, 5, 4, 3, 2\n",
      "\n",
      "Отрицательные числа:\n",
      "-2, -2, -3, -4\n"
     ]
    }
   ],
   "source": [
    "dd = deque()\n",
    "n = 0\n",
    "\n",
    "with open('numbers.txt') as file:\n",
    "    for number in file:\n",
    "        print(number)\n",
    "        if int(number) > 0:\n",
    "            dd.add_left(int(number))\n",
    "            n+=1\n",
    "        else:\n",
    "            dd.add_right(int(number))\n",
    "\n",
    "print(\"Положительные числа:\")\n",
    "print(', '.join(map(str, (dd.pop_left() for i in range(n)))))\n",
    "\n",
    "print(\"\\nОтрицательные числа:\")\n",
    "print(', '.join(map(str, (i for i in dd.items))))\n"
   ]
  },
  {
   "cell_type": "markdown",
   "id": "b9228191",
   "metadata": {},
   "source": [
    "### Задание №8\n",
    "Дан текстовый файл. Используя стек, сформировать новый текстовый файл, содержащий строки исходного файла, записанные в обратном порядке: первая строка становится последней, вторая – предпоследней и т.д."
   ]
  },
  {
   "cell_type": "code",
   "execution_count": 12,
   "id": "981fbdfe",
   "metadata": {},
   "outputs": [],
   "source": [
    "s = stack()\n",
    "str  = ''\n",
    "tt = []\n",
    "with open('text.txt') as file:\n",
    "    with open('reversed.txt', 'a') as file2:\n",
    "        for line in file:\n",
    "            for char in line:\n",
    "                s.add(char)\n",
    "            for i in range (len(s.items)):\n",
    "                file2.write(s.pop()) "
   ]
  },
  {
   "cell_type": "code",
   "execution_count": 13,
   "id": "ca62b763-8ca8-4fb7-b15f-00cfbf00d66c",
   "metadata": {},
   "outputs": [
    {
     "name": "stdout",
     "output_type": "stream",
     "text": [
      "\n",
      "fdsfdas\n",
      "dvcvdx\n",
      "fswevxz\n",
      "zxvz\n",
      "zdfogzdgfd\n",
      "4321FNQIW;po\n"
     ]
    }
   ],
   "source": [
    "with open('reversed.txt') as file:\n",
    "    print(file.read())"
   ]
  },
  {
   "cell_type": "markdown",
   "id": "rental-jerusalem",
   "metadata": {},
   "source": [
    "### Вывод\n"
   ]
  },
  {
   "cell_type": "markdown",
   "id": "0c2b8899",
   "metadata": {},
   "source": [
    "С помощью простых функций стэка и дэка можно решать сложные задачи, при этом эффективно используя память компютера"
   ]
  }
 ],
 "metadata": {
  "kernelspec": {
   "display_name": "Python 3 (ipykernel)",
   "language": "python",
   "name": "python3"
  },
  "language_info": {
   "codemirror_mode": {
    "name": "ipython",
    "version": 3
   },
   "file_extension": ".py",
   "mimetype": "text/x-python",
   "name": "python",
   "nbconvert_exporter": "python",
   "pygments_lexer": "ipython3",
   "version": "3.12.1"
  }
 },
 "nbformat": 4,
 "nbformat_minor": 5
}
